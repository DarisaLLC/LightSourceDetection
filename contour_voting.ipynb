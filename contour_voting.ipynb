{
 "cells": [
  {
   "cell_type": "code",
   "execution_count": 1,
   "metadata": {},
   "outputs": [
    {
     "ename": "SyntaxError",
     "evalue": "invalid syntax (light_detection.py, line 264)",
     "output_type": "error",
     "traceback": [
      "\u001b[0;36m  File \u001b[0;32m\"/home/deepak/Documents/LightSourceDetection/light_detection.py\"\u001b[0;36m, line \u001b[0;32m264\u001b[0m\n\u001b[0;31m    %matplotlib inline\u001b[0m\n\u001b[0m    ^\u001b[0m\n\u001b[0;31mSyntaxError\u001b[0m\u001b[0;31m:\u001b[0m invalid syntax\n"
     ]
    }
   ],
   "source": [
    "import numpy as np\n",
    "import math\n",
    "import cv2\n",
    "from scipy.optimize import nnls\n",
    "from scipy.signal import argrelextrema\n",
    "import light_detection"
   ]
  },
  {
   "cell_type": "markdown",
   "metadata": {},
   "source": [
    "# Testing on Apple with two lights\n",
    "## Real measured light directions\n",
    "Azimuthal angles: Light1- -15 deg, Light2- 165 deg"
   ]
  },
  {
   "cell_type": "code",
   "execution_count": null,
   "metadata": {
    "collapsed": true
   },
   "outputs": [],
   "source": [
    "import matplotlib.pyplot as plt\n",
    "import matplotlib.image as mpimg\n",
    "img = mpimg.imread('data/apple1.jpg')\n",
    "img.shape"
   ]
  },
  {
   "cell_type": "markdown",
   "metadata": {},
   "source": [
    "## Original Image of the apple"
   ]
  },
  {
   "cell_type": "code",
   "execution_count": null,
   "metadata": {
    "collapsed": true
   },
   "outputs": [],
   "source": [
    "%matplotlib inline\n",
    "plt.imshow(img)"
   ]
  },
  {
   "cell_type": "code",
   "execution_count": null,
   "metadata": {
    "collapsed": true
   },
   "outputs": [],
   "source": [
    "silhouette = mpimg.imread('data/silhexcluded.jpg')"
   ]
  },
  {
   "cell_type": "code",
   "execution_count": null,
   "metadata": {
    "collapsed": true
   },
   "outputs": [],
   "source": [
    "\n",
    "silhouette2 =  0.2989 * silhouette[:,:,0] + 0.5870 * silhouette[:,:,1] + 0.1140 * silhouette[:,:,2]\n",
    "indices = np.where(silhouette2>210)\n"
   ]
  },
  {
   "cell_type": "code",
   "execution_count": null,
   "metadata": {
    "collapsed": true
   },
   "outputs": [],
   "source": [
    "newImg = np.zeros_like(img)\n",
    "newImg[indices] = img[indices]\n",
    "newImg[65:100,70:120] = 0\n",
    "newImg[0:20] = 0\n"
   ]
  },
  {
   "cell_type": "markdown",
   "metadata": {},
   "source": [
    "## Silhouette of the apple"
   ]
  },
  {
   "cell_type": "code",
   "execution_count": null,
   "metadata": {
    "collapsed": true
   },
   "outputs": [],
   "source": [
    "%matplotlib inline\n",
    "plt.imshow(newImg)"
   ]
  },
  {
   "cell_type": "code",
   "execution_count": null,
   "metadata": {
    "collapsed": true
   },
   "outputs": [],
   "source": [
    "ImgwApple = img[18:150, 5:150]\n",
    "silhImg = newImg[18:150,5:150]\n",
    "# silhImg =  0.2989 * silhImg[:,:,0] + 0.5870 * silhImg[:,:,1] + 0.1140 * silhImg[:,:,2]\n",
    "silhImg = (0.2126*silhImg[:,:,0]) + (0.7152*silhImg[:,:,1]) + (0.0722*silhImg[:,:,2])"
   ]
  },
  {
   "cell_type": "code",
   "execution_count": null,
   "metadata": {
    "collapsed": true
   },
   "outputs": [],
   "source": [
    "%matplotlib inline\n",
    "fig, ax = plt.subplots(nrows=2, ncols=1)\n",
    "\n",
    "plt.subplot(2, 1, 1)\n",
    "plt.imshow(ImgwApple)\n",
    "\n",
    "plt.subplot(2, 1, 2)\n",
    "plt.imshow(silhImg)\n",
    "plt.savefig('apples.png')"
   ]
  },
  {
   "cell_type": "code",
   "execution_count": null,
   "metadata": {
    "collapsed": true
   },
   "outputs": [],
   "source": [
    "# ImgwApple = ImgwApple.astype(np.float64)\n",
    "# ImgwApple.dtype"
   ]
  },
  {
   "cell_type": "code",
   "execution_count": null,
   "metadata": {
    "collapsed": true
   },
   "outputs": [],
   "source": [
    "give_images_light_detection(ImgwApple,silhImg,2)\n"
   ]
  },
  {
   "cell_type": "markdown",
   "metadata": {},
   "source": [
    "## Testing for Apple 2\n",
    "It has only one light\n",
    "Light 1: Azimuthal angle: 90"
   ]
  },
  {
   "cell_type": "code",
   "execution_count": null,
   "metadata": {
    "collapsed": true
   },
   "outputs": [],
   "source": [
    "apple2 = mpimg.imread('data/apple2.jpg')\n",
    "silhApple2 = mpimg.imread('data/silhapple2.jpg')"
   ]
  },
  {
   "cell_type": "code",
   "execution_count": null,
   "metadata": {
    "collapsed": true
   },
   "outputs": [],
   "source": [
    "%matplotlib inline\n",
    "plt.imshow(silhApple2)"
   ]
  },
  {
   "cell_type": "code",
   "execution_count": null,
   "metadata": {
    "collapsed": true
   },
   "outputs": [],
   "source": [
    "silhApple2 =  0.2989 * silhApple2[:,:,0] + 0.5870 * silhApple2[:,:,1] + 0.1140 * silhApple2[:,:,2]\n"
   ]
  },
  {
   "cell_type": "code",
   "execution_count": null,
   "metadata": {
    "collapsed": true
   },
   "outputs": [],
   "source": [
    "silhApple2pixels,Y = np.where(silhApple2<246)\n",
    "silhApple2pixels.shape\n"
   ]
  },
  {
   "cell_type": "code",
   "execution_count": null,
   "metadata": {
    "collapsed": true
   },
   "outputs": [],
   "source": [
    "%matplotlib inline\n",
    "A = np.zeros_like(silhApple2)\n",
    "A[silhApple2pixels,Y] = 255\n",
    "fig, ax = plt.subplots(nrows=2, ncols=1)\n",
    "\n",
    "plt.subplot(2, 1, 1)\n",
    "plt.imshow(apple2)\n",
    "\n",
    "plt.subplot(2, 1, 2)\n",
    "plt.imshow(A)\n",
    "plt.savefig('apple2.png')"
   ]
  },
  {
   "cell_type": "code",
   "execution_count": null,
   "metadata": {
    "collapsed": true
   },
   "outputs": [],
   "source": [
    "# apple2 = apple2.astype(np.float64)\n",
    "# A = A.astype(np.float64)"
   ]
  },
  {
   "cell_type": "code",
   "execution_count": null,
   "metadata": {
    "collapsed": true
   },
   "outputs": [],
   "source": [
    "give_images_light_detection(apple2,A,1)"
   ]
  },
  {
   "cell_type": "markdown",
   "metadata": {},
   "source": [
    "# Testing after increasing silhouette size."
   ]
  },
  {
   "cell_type": "code",
   "execution_count": null,
   "metadata": {
    "collapsed": true
   },
   "outputs": [],
   "source": [
    "img1 = mpimg.imread('data/apple1copy.jpg')\n",
    "imgsilh = mpimg.imread('data/apple1silh2.jpg')\n",
    "%matplotlib inline\n",
    "fig, ax = plt.subplots(nrows=2, ncols=1)\n",
    "\n",
    "plt.subplot(2, 1, 1)\n",
    "plt.imshow(img1)\n",
    "\n",
    "plt.subplot(2, 1, 2)\n",
    "plt.imshow(imgsilh)\n",
    "plt.savefig('apples.png')"
   ]
  },
  {
   "cell_type": "code",
   "execution_count": null,
   "metadata": {
    "collapsed": true
   },
   "outputs": [],
   "source": [
    "silhApple2 =  0.2989 * imgsilh[:,:,0] + 0.5870 * imgsilh[:,:,1] + 0.1140 * imgsilh[:,:,2]\n",
    "silh = np.zeros_like(silhApple2)\n",
    "pixs = np.where(silhApple2>=8)\n",
    "print(pixs)\n",
    "silh[pixs] = silhApple2[pixs]\n",
    "\n",
    "%matplotlib inline\n",
    "fig, ax = plt.subplots(nrows=2, ncols=1)\n",
    "\n",
    "plt.subplot(2, 1, 1)\n",
    "plt.imshow(img1)\n",
    "\n",
    "plt.subplot(2, 1, 2)\n",
    "plt.imshow(silh)\n",
    "plt.savefig('apples.png')"
   ]
  },
  {
   "cell_type": "code",
   "execution_count": null,
   "metadata": {
    "collapsed": true
   },
   "outputs": [],
   "source": [
    "give_images_light_detection(img1, silh,2)"
   ]
  },
  {
   "cell_type": "markdown",
   "metadata": {},
   "source": [
    "## Final azimuthal angles found: 201.24 deg, 279.64 deg\n",
    "## Original azimuthal angles: -15 deg, 165 deg"
   ]
  },
  {
   "cell_type": "code",
   "execution_count": null,
   "metadata": {
    "collapsed": true
   },
   "outputs": [],
   "source": [
    "apple_with_line = cv2.line(img1,(70,34),(100,111),(0,0,255),1)\n",
    "%matplotlib inline\n",
    "plt.imshow(apple_with_line)"
   ]
  },
  {
   "cell_type": "code",
   "execution_count": null,
   "metadata": {
    "collapsed": true
   },
   "outputs": [],
   "source": []
  },
  {
   "cell_type": "markdown",
   "metadata": {},
   "source": [
    "# Synthetic Ball "
   ]
  },
  {
   "cell_type": "code",
   "execution_count": null,
   "metadata": {
    "collapsed": true
   },
   "outputs": [],
   "source": [
    "ball = mpimg.imread('data/ball.png')\n",
    "ballsilh = mpimg.imread('data/ballsilh.jpg')\n",
    "%matplotlib inline\n",
    "fig, ax = plt.subplots(nrows=2, ncols=1)\n",
    "\n",
    "plt.subplot(2, 1, 1)\n",
    "plt.imshow(ball)\n",
    "\n",
    "plt.subplot(2, 1, 2)\n",
    "plt.imshow(ballsilh)\n",
    "plt.savefig('ball.png')"
   ]
  },
  {
   "cell_type": "code",
   "execution_count": null,
   "metadata": {
    "collapsed": true
   },
   "outputs": [],
   "source": [
    "ballslh2 = np.zeros_like(ballsilh)\n",
    "ballslh2[np.where(ballsilh<240)] = 255\n",
    "%matplotlib inline\n",
    "plt.imshow(ballslh2)"
   ]
  },
  {
   "cell_type": "code",
   "execution_count": null,
   "metadata": {
    "collapsed": true
   },
   "outputs": [],
   "source": [
    "give_images_light_detection(ball,ballslh2,2)"
   ]
  },
  {
   "cell_type": "markdown",
   "metadata": {},
   "source": [
    "## Convergence at 28 iterations\n",
    "## Light Azimuthal angles found:  [ 167.7092966   134.57994889]"
   ]
  },
  {
   "cell_type": "code",
   "execution_count": null,
   "metadata": {
    "collapsed": true
   },
   "outputs": [],
   "source": [
    "ball_with_line = cv2.line(ball,(171,46),(123,263),(255,250,0),1)\n",
    "%matplotlib inline\n",
    "plt.imshow(ball_with_line)"
   ]
  },
  {
   "cell_type": "code",
   "execution_count": null,
   "metadata": {
    "collapsed": true
   },
   "outputs": [],
   "source": []
  },
  {
   "cell_type": "code",
   "execution_count": null,
   "metadata": {
    "collapsed": true
   },
   "outputs": [],
   "source": []
  },
  {
   "cell_type": "markdown",
   "metadata": {},
   "source": [
    "# Code for Azimuthal angle calculation"
   ]
  },
  {
   "cell_type": "code",
   "execution_count": null,
   "metadata": {
    "collapsed": true
   },
   "outputs": [],
   "source": [
    "def omg_calc(azm1, azm2, diffuse_const):\n",
    "    dotp = np.sin(azm1)*np.sin(azm2) + np.cos(azm1)*np.cos(azm2)\n",
    "    dotp = diffuse_const*dotp\n",
    "    if dotp <0:\n",
    "        return 0\n",
    "    return dotp"
   ]
  },
  {
   "cell_type": "code",
   "execution_count": null,
   "metadata": {
    "collapsed": true
   },
   "outputs": [],
   "source": [
    "def give_azm_angle(x,y):\n",
    "    if (x>0)and (y<0):\n",
    "        angle = 2*np.pi - math.atan(abs(y/x))\n",
    "    elif (x>0) and (y>=0):\n",
    "        angle = math.atan(abs(y/x))\n",
    "    elif (x<0) and (y>=0):\n",
    "        angle = np.pi - math.atan(abs(y/x))\n",
    "    elif (x<0) and (y<0):\n",
    "        angle = np.pi + math.atan(abs(y/x))\n",
    "    elif (x==0):\n",
    "        if (y>0):\n",
    "            angle = 0.5*np.pi\n",
    "        else:\n",
    "            angle = 1.5*np.pi\n",
    "    return angle"
   ]
  },
  {
   "cell_type": "code",
   "execution_count": null,
   "metadata": {
    "collapsed": true
   },
   "outputs": [],
   "source": [
    "def linear_reg(x,y):\n",
    "#     from sklearn import linear_model\n",
    "#     clf = linear_model.LinearRegression()\n",
    "#     clf.fit(x,y)\n",
    "#     return clf.coef_\n",
    "    coef,_ = nnls(x,y)\n",
    "    return coef"
   ]
  },
  {
   "cell_type": "code",
   "execution_count": null,
   "metadata": {
    "collapsed": true
   },
   "outputs": [],
   "source": [
    "def contour_voting(lum, azimuth_cor, no_lights,diffuse_consts):\n",
    "    # no_normals: The number of pixels in luminance set.\n",
    "    no_normals = len(lum)\n",
    "    print(\"Solving for %d lights and no of silhouette pixels are %d.\"%(no_lights,no_normals))\n",
    "    eps = 1e-3\n",
    "    no_cors = len(azimuth_cor)\n",
    "    assert(no_normals==no_cors)\n",
    "    sorted_lum_ind = np.argsort(lum)\n",
    "    \n",
    "    # Sorted the luminances in descending order.\n",
    "    sorted_lum_des = np.take(lum, sorted_lum_ind)[::-1]\n",
    "    sorted_azm_des = np.take(azimuth_cor, sorted_lum_ind)[::-1]\n",
    "    sorted_diffuse_consts = np.take(diffuse_consts,\n",
    "                                   sorted_lum_ind)[::-1]\n",
    "    \n",
    "    np.random.seed(5)\n",
    "    # j represent the lights\n",
    "\n",
    "    \n",
    "    # Initializing the azimuthal coordinates for the lights\n",
    "    # The first light has azimuth equal to the azm coodinate of \n",
    "    # the point with maximum luminance. \n",
    "    # Now continuously, the factor of 2*pi*i/N_lights is added. \n",
    "    maximum_azm = sorted_azm_des[0]\n",
    "    lights_azimuth_cor = np.ones(no_lights)*maximum_azm\n",
    "    for light in range(no_lights):\n",
    "        lights_azimuth_cor[light] += 2*np.pi*light/no_lights\n",
    "    weights_lights = np.zeros(no_lights, \n",
    "                              dtype = np.float32)\n",
    "#     print(lights_azimuth_cor)\n",
    "    \n",
    "    # omega_mat: weight for the luminances, it has been initialized to zero.\n",
    "    omega_mat = np.zeros(no_normals, \n",
    "                         dtype = np.float32)\n",
    "    # Maps the function omega to all the normals \n",
    "    omg_func = lambda t1,t2,diffuse: omg_calc(t1,t2,diffuse)\n",
    "    vfunc = np.vectorize(omg_func)\n",
    "    \n",
    "    consts = np.zeros((no_normals,no_lights)) \n",
    "\n",
    "    #############Initialize diffuse consts###############\n",
    "    for i in range(no_normals):\n",
    "        consts[i] = vfunc(sorted_azm_des[i],\n",
    "                                 lights_azimuth_cor,1)\n",
    "    vals_light_lums = np.random.uniform(np.min(lum),np.max(lum), no_lights)\n",
    "    #####################################################\n",
    "    \n",
    "    \n",
    "    prev_azimuth_cor = np.zeros_like(lights_azimuth_cor)\n",
    "    itr = 0\n",
    "    A=True\n",
    "    while (np.linalg.norm(abs(lights_azimuth_cor- prev_azimuth_cor)) >eps)and A:\n",
    "        # i represent the normals\n",
    "        prev_azimuth_cor = np.copy(lights_azimuth_cor)\n",
    "        for i in range(no_normals):\n",
    "            \n",
    "            # Total weight for the current luminance\n",
    "            # light_azimuth_cor is an array of all the lights.\n",
    "            # I have randomly filled the diffuse constant.\n",
    "#             omega_mat[i] = np.sum(vfunc(sorted_azm_des[i], \n",
    "#                                          lights_azimuth_cor, \n",
    "#                                          sorted_diffuse_consts[i]))\n",
    "            omega_mat[i] = np.sum(vfunc(sorted_azm_des[i], \n",
    "                                         lights_azimuth_cor, \n",
    "                                         vals_light_lums))\n",
    "            for j in range(no_lights):\n",
    "#                 alpha_i_j = sorted_lum_des[i]*omg_calc(sorted_azm_des[i],\n",
    "#                                            lights_azimuth_cor[j],\n",
    "#                                            sorted_diffuse_consts[i])\n",
    "                alpha_i_j = sorted_lum_des[i]*omg_calc(sorted_azm_des[i],\n",
    "                                           lights_azimuth_cor[j],\n",
    "                                           vals_light_lums[j])\n",
    "#                 print(alpha_i_j)\n",
    "                if (omega_mat[i]!=0):\n",
    "                    alpha_i_j /=omega_mat[i] # Weight of normal i\n",
    "                else:\n",
    "                    alpha_i_j = 0\n",
    "                lights_azimuth_cor[j] = weights_lights[j]*lights_azimuth_cor[j] + \\\n",
    "                                         alpha_i_j*sorted_azm_des[i]\n",
    "                weights_lights[j] += alpha_i_j\n",
    "                if weights_lights[j]!=0 :\n",
    "                    lights_azimuth_cor[j] /= weights_lights[j]\n",
    "                else:\n",
    "                    lights_azimuth_cor[j] = 0\n",
    "            \n",
    "            \n",
    "            ##############################Not sure about this#############\n",
    "        for i in range(no_normals):\n",
    "            consts[i] = vfunc(sorted_azm_des[i],\n",
    "                                     lights_azimuth_cor,\n",
    "                                      1)\n",
    "#         print(consts)\n",
    "        print('Values of light lums are: ',vals_light_lums)\n",
    "        vals_light_lums = linear_reg(consts,lum)\n",
    "#         vals_light_lums = linear_reg(consts,sorted_lum_des)\n",
    "            ##############################\n",
    "        itr +=1\n",
    "        print(\"Iteration %d completed. Moving next.\"%itr)\n",
    "#         print(prev_azimuth_cor)\n",
    "        print(\"The azimuthal angles at this iteration are: \",lights_azimuth_cor)\n",
    "#         A = False\n",
    "    \n",
    "    \n",
    "    print(\"Converged at the %d iteration.\"%itr)\n",
    "    print(\"Light azimuthal angles are : \",lights_azimuth_cor*180/np.pi)\n",
    "    return lights_azimuth_cor\n",
    "    "
   ]
  },
  {
   "cell_type": "markdown",
   "metadata": {},
   "source": [
    "# Zenith Angle Calculation"
   ]
  },
  {
   "cell_type": "code",
   "execution_count": null,
   "metadata": {
    "collapsed": true
   },
   "outputs": [],
   "source": [
    "def createLineIterator(P1, P2, img):\n",
    "    \"\"\"\n",
    "    ********Taken from Stack Overflow.************** \n",
    "    Produces and array that consists of the coordinates and \n",
    "    intensities of each pixel in a line between two points.\n",
    "    \"\"\"\n",
    "    #define local variables for readability\n",
    "    imageH = img.shape[0]\n",
    "    imageW = img.shape[1]\n",
    "    P1Y = P1[0]\n",
    "    P1X = P1[1]\n",
    "    P2Y = P2[0]\n",
    "    P2X = P2[1]\n",
    "\n",
    "    #difference and absolute difference between points\n",
    "    #used to calculate slope and relative location between points\n",
    "    dX = P2X - P1X\n",
    "    dY = P2Y - P1Y\n",
    "    dXa = np.abs(dX)\n",
    "    dYa = np.abs(dY)\n",
    "\n",
    "    #predefine numpy array for output based on distance between points\n",
    "    itbuffer = np.empty(shape=(np.maximum(dYa,dXa),3),dtype=np.float32)\n",
    "    itbuffer.fill(np.nan)\n",
    "\n",
    "    #Obtain coordinates along the line using a form of Bresenham's algorithm\n",
    "    negY = P1Y > P2Y\n",
    "    negX = P1X > P2X\n",
    "    if P1X == P2X: #vertical line segment\n",
    "        itbuffer[:,0] = P1X\n",
    "        if negY:\n",
    "            itbuffer[:,1] = np.arange(P1Y - 1,P1Y - dYa - 1,-1)\n",
    "        else:\n",
    "            itbuffer[:,1] = np.arange(P1Y+1,P1Y+dYa+1)              \n",
    "    elif P1Y == P2Y: #horizontal line segment\n",
    "        itbuffer[:,1] = P1Y\n",
    "        if negX:\n",
    "            itbuffer[:,0] = np.arange(P1X-1,P1X-dXa-1,-1)\n",
    "        else:\n",
    "            itbuffer[:,0] = np.arange(P1X+1,P1X+dXa+1)\n",
    "    else: #diagonal line segment\n",
    "        steepSlope = dYa > dXa\n",
    "        if steepSlope:\n",
    "            slope = dX.astype(np.float32)/dY.astype(np.float32)\n",
    "            if negY:\n",
    "                itbuffer[:,1] = np.arange(P1Y-1,P1Y-dYa-1,-1)\n",
    "            else:\n",
    "                itbuffer[:,1] = np.arange(P1Y+1,P1Y+dYa+1)\n",
    "            itbuffer[:,0] = (slope*(itbuffer[:,1]-P1Y)).astype(np.int) + P1X\n",
    "        else:\n",
    "            slope = dY.astype(np.float32)/dX.astype(np.float32)\n",
    "            if negX:\n",
    "                itbuffer[:,0] = np.arange(P1X-1,P1X-dXa-1,-1)\n",
    "            else:\n",
    "                itbuffer[:,0] = np.arange(P1X+1,P1X+dXa+1)\n",
    "            itbuffer[:,1] = (slope*(itbuffer[:,0]-P1X)).astype(np.int) + P1Y\n",
    "\n",
    "    #Remove points outside of image\n",
    "    colX = itbuffer[:,0]\n",
    "    colY = itbuffer[:,1]\n",
    "    itbuffer = itbuffer[(colX >= 0) & (colY >=0) & (colX<imageW) & (colY<imageH)]\n",
    "\n",
    "    #Get intensities from img ndarray\n",
    "    itbuffer[:,2] = img[itbuffer[:,1].astype(np.uint),itbuffer[:,0].astype(np.uint)]\n",
    "\n",
    "    return itbuffer"
   ]
  },
  {
   "cell_type": "code",
   "execution_count": null,
   "metadata": {
    "collapsed": true
   },
   "outputs": [],
   "source": [
    "def see_case(azm, divX, divY):\n",
    "    value = np.sin(azm)*divX + np.cos(azm)*divY\n",
    "    return value\n"
   ]
  },
  {
   "cell_type": "code",
   "execution_count": null,
   "metadata": {
    "collapsed": true
   },
   "outputs": [],
   "source": [
    "def find_first_local(itbuffer, maxima = True):\n",
    "    if maxima:\n",
    "        local_maximas = argrelextrema(itbuffer[:,2], np.greater)\n",
    "        if len(local_maximas[0])>0:\n",
    "#             print(local_maximas[0])\n",
    "            return (itbuffer[local_maximas[0][0],1],itbuffer[local_maximas[0][0],0])\n",
    "        else: raise ValueError()\n",
    "    else:\n",
    "        local_minimas = argrelextrema(itbuffer[:,2], np.less)\n",
    "        if len(local_minimas[0])>0: \n",
    "            return (itbuffer[local_minimas[0][0],1],itbuffer[local_minimas[0][0],0])\n",
    "        else: raise ValueError()"
   ]
  },
  {
   "cell_type": "code",
   "execution_count": null,
   "metadata": {
    "collapsed": true
   },
   "outputs": [],
   "source": [
    "def surface_normal_formula(P1,P2, ph_or_plo):\n",
    "    P1Y, P1X = P1\n",
    "    P2Y, P2X = P2\n",
    "    ph_or_ploY, ph_or_ploX = ph_or_plo\n",
    "    centreY,centreX = (P1Y + P2Y)/2 , (P1X + P2X)/2\n",
    "    rad  = np.sqrt((centreY-P1Y)**2 + (centreX - P1X)**2)\n",
    "#     print(rad)\n",
    "    phdist = np.sqrt((centreY-ph_or_ploY)**2 + (centreX - ph_or_ploX)**2)\n",
    "#     print(phdist)\n",
    "    coshtheta = np.arccos(phdist/rad)\n",
    "    if (ph_or_ploY<centreY):\n",
    "        return (np.pi - coshtheta)\n",
    "    else: return coshtheta"
   ]
  },
  {
   "cell_type": "code",
   "execution_count": null,
   "metadata": {
    "collapsed": true
   },
   "outputs": [],
   "source": [
    "def calculate_zenith_angle(Image, Silhouette,\n",
    "                            n_lights,azms, \n",
    "                          light_angles,\n",
    "                          azmX, azmY):\n",
    "    Image = cv2.bilateralFilter(Image,9,75,75)\n",
    "    %matplotlib inline\n",
    "    plt.imshow(Image)\n",
    "    plt.show()\n",
    "    Rimg, Gimg, Bimg = Image[:,:,0], Image[:,:,1], Image[:,:,2]\n",
    "    luminance = 0.2989 * Rimg + 0.5870 * Gimg + 0.1140 * Bimg\n",
    "    print('Light angles are', light_angles)\n",
    "#     print('Azimuthal angles of pixels are', azms)\n",
    "    divImg = np.gradient(luminance)\n",
    "    \n",
    "    divImgY, divImgX = divImg[0], divImg[1]\n",
    "    del divImg\n",
    "    \n",
    "    azm_into_div = lambda azm,divX, divY: see_case(azm,divX,divY)\n",
    "    vfunc = np.vectorize(azm_into_div)    \n",
    "    \n",
    "    for i in range(n_lights):\n",
    "        if (light_angles[i]<np.pi): \n",
    "            testangle_2 = light_angles[i] + np.pi\n",
    "        else: testangle_2 = light_angles[i] - np.pi\n",
    "\n",
    "        index_to_start = np.where(abs(light_angles[i] -azms)<1e-2)\n",
    "        index_to_end = np.where(abs(testangle_2 - azms)<1e-2)\n",
    "#         print(index_to_start)\n",
    "#         print(index_to_end)\n",
    "        azmX_to_start, azmY_to_start = azmX[index_to_start],azmY[index_to_start]\n",
    "        azmX_to_end, azmY_to_end = azmX[index_to_end],azmY[index_to_end]\n",
    "        len_start_inds = len(azmX_to_start)\n",
    "        len_end_inds = len(azmX_to_end)\n",
    "#         print(azmY_to_start,azmX_to_start)\n",
    "#         print(azmY_to_end,azmX_to_end)\n",
    "        for start in range(1):\n",
    "            maxima = False\n",
    "            P1 = (azmY_to_start[start],azmX_to_start[start])\n",
    "            DirectionDerv = vfunc(light_angles[i],\n",
    "                                     divImgX,\n",
    "                                    divImgY)\n",
    "            if DirectionDerv[P1]>0:\n",
    "                maxima = True\n",
    "            print(maxima)\n",
    "            for end in range(1):\n",
    "                P2 = (azmY_to_end[end],azmX_to_end[end])\n",
    "                itbuffer = createLineIterator(P1,P2,luminance)\n",
    "                if maxima:\n",
    "                    pixel = find_first_local(itbuffer,maxima=maxima)\n",
    "                    zenith_angle = surface_normal_formula(P1,P2,pixel)\n",
    "                    print('Zenith angle obtained is: ', zenith_angle*180/np.pi)\n",
    "                else:\n",
    "                    Derivs_along_line = DirectionDerv[itbuffer[:,1].astype(np.uint),\n",
    "                                                      itbuffer[:,0].astype(np.uint)]\n",
    "                    zero_crossings = np.where(np.diff(np.sign(Derivs_along_line)))[0]\n",
    "                    if (len(zero_crossings)!=0):\n",
    "#                         print(zero_crossings[0])\n",
    "                        pixel = (itbuffer[zero_crossings[0],1],\n",
    "                                 itbuffer[zero_crossings[0],0])\n",
    "                        zenith_angle = surface_normal_formula(P1,P2,pixel) - np.pi/2\n",
    "#                         print(P1,P2,pixel)\n",
    "                        print('Zenith angle obtained is: ', zenith_angle*180/np.pi)\n",
    "        # Returned in the form (Y,X)\n",
    "#                 print(find_first_local(itbuffer,maxima=DirectionDerv))\n",
    "                "
   ]
  },
  {
   "cell_type": "code",
   "execution_count": null,
   "metadata": {
    "collapsed": true
   },
   "outputs": [],
   "source": [
    "def give_images_light_detection(Image, Silhouette, n_lights = 3):\n",
    "    shapeImg = Image.shape\n",
    "    shapeSilhoutte = Silhouette.shape\n",
    "#     assert(shapeImg == shapeSilhoutte)\n",
    "    boundaryIndsY, boundaryIndsX = np.where(Silhouette!=0)\n",
    "    Rimg, Gimg, Bimg = Image[:,:,0], Image[:,:,1], Image[:,:,2]\n",
    "\n",
    "    # Finding the luminances of the silhouette pixels\n",
    "    silhR, silhG, silhB = Rimg[boundaryIndsY,boundaryIndsX], \\\n",
    "                            Gimg[boundaryIndsY,boundaryIndsX], \\\n",
    "                            Bimg[boundaryIndsY,boundaryIndsX]\n",
    "#     luminance = 0.2126*Rimg +0.7152*Gimg + 0.0722*Bimg\n",
    "    luminance = 0.2989 * Rimg + 0.5870 * Gimg + 0.1140 * Bimg\n",
    "    silhpixs = np.zeros_like(luminance)\n",
    "    silhpixs[boundaryIndsY,boundaryIndsX] = vectorlum = luminance[boundaryIndsY,boundaryIndsX]\n",
    "    \n",
    "    # The origin taken as center of the photograph\n",
    "    ymed,xmed = shapeSilhoutte\n",
    "    xmed= xmed/2\n",
    "    ymed = ymed/2\n",
    "    print(\"The center is \",(xmed,ymed))\n",
    "    # Finding azimuthal angles of the boundaries\n",
    "    azmX, azmY = boundaryIndsX - xmed, boundaryIndsY - ymed\n",
    "    find_angles = np.vectorize(give_azm_angle)\n",
    "    azms = find_angles(azmX,azmY)\n",
    "#     print(azms)\n",
    "    print(\"no of Silhouette pixels are: \",len(azms))\n",
    "    diffuse_consts = np.random.uniform(3,4, len(vectorlum)) # How to choose them???\n",
    "    light_azimuth_angles =  contour_voting(vectorlum,azms,n_lights,diffuse_consts)\n",
    "    \n",
    "#     light_azimuth_angles = np.array([167.709296 ,134.57994889])*np.pi/180\n",
    "#     light_azimuth_angles = np.array([201.24,279.64])*np.pi/180\n",
    "\n",
    "    calculate_zenith_angle(Image, Silhouette, n_lights,\n",
    "                           azms, light_azimuth_angles,\n",
    "                          boundaryIndsX,boundaryIndsY) \n",
    "#     print(boundaryIndsY,boundaryIndsX)\n",
    "#     print(azms*180/np.pi)"
   ]
  },
  {
   "cell_type": "code",
   "execution_count": null,
   "metadata": {
    "collapsed": true
   },
   "outputs": [],
   "source": []
  },
  {
   "cell_type": "code",
   "execution_count": null,
   "metadata": {
    "collapsed": true
   },
   "outputs": [],
   "source": []
  }
 ],
 "metadata": {
  "kernelspec": {
   "display_name": "Python 3",
   "language": "python",
   "name": "python3"
  },
  "language_info": {
   "codemirror_mode": {
    "name": "ipython",
    "version": 3
   },
   "file_extension": ".py",
   "mimetype": "text/x-python",
   "name": "python",
   "nbconvert_exporter": "python",
   "pygments_lexer": "ipython3",
   "version": "3.6.1"
  }
 },
 "nbformat": 4,
 "nbformat_minor": 2
}
